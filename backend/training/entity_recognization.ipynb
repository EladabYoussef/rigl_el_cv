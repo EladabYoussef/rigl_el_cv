{
 "cells": [
  {
   "cell_type": "code",
   "id": "initial_id",
   "metadata": {
    "collapsed": true,
    "ExecuteTime": {
     "end_time": "2025-07-19T23:43:50.094673Z",
     "start_time": "2025-07-19T23:43:48.790299Z"
    }
   },
   "source": [
    "import spacy\n",
    "\n",
    "nlp = spacy.load(\"en_core_web_md\")"
   ],
   "outputs": [],
   "execution_count": 22
  },
  {
   "metadata": {
    "ExecuteTime": {
     "end_time": "2025-07-19T23:43:51.271442Z",
     "start_time": "2025-07-19T23:43:51.196284Z"
    }
   },
   "cell_type": "code",
   "source": [
    "ruler = nlp.add_pipe(\"entity_ruler\")\n",
    "ruler.from_disk(\"./data/skills.jsonl\")"
   ],
   "id": "f623bcee635beeed",
   "outputs": [
    {
     "data": {
      "text/plain": [
       "<spacy.pipeline.entityruler.EntityRuler at 0x70b04ecd2f10>"
      ]
     },
     "execution_count": 23,
     "metadata": {},
     "output_type": "execute_result"
    }
   ],
   "execution_count": 23
  },
  {
   "metadata": {
    "ExecuteTime": {
     "end_time": "2025-07-19T23:34:47.139246Z",
     "start_time": "2025-07-19T23:34:46.543703Z"
    }
   },
   "cell_type": "code",
   "source": [
    "import re, fitz\n",
    "\n",
    "def text_from_pdf(file_bytes: bytes) -> str:\n",
    "    try:\n",
    "        with fitz.open(stream= file_bytes, filetype=\"pdf\") as pdf:\n",
    "            text = \"\".join([page.get_text() for page in pdf])\n",
    "        return preprocess_text(text)\n",
    "    except Exception as e:\n",
    "        print(f\"[Error]: Failed to extract text: {e}\")\n",
    "        return \"\"\n",
    "\n",
    "def preprocess_text(text: str) -> str:\n",
    "    nlp = spacy.load(\"en_core_web_sm\")\n",
    "    doc = nlp(text)\n",
    "    res = \" \".join([token.text for token in doc if (not token.is_stop)])\n",
    "    res= re.sub(r\"[^\\w@.|’|'|-]+\", \" \", text)\n",
    "    res = re.sub(r\"\\s+\", \" \", res).strip()\n",
    "\n",
    "    return res\n"
   ],
   "id": "e8f357a64ea8d5fc",
   "outputs": [
    {
     "name": "stdout",
     "output_type": "stream",
     "text": [
      "Functional Resume Sample John W. Smith 2002 Front Range Way Fort Collins CO 80525 jwsmith@colostate.edu Career Summary Four years experience in early childhood development with a diverse background in the care of special needs children and adults. Adult Care Experience Determined work placement for 150 special needs adult clients. Maintained client databases and records. Coordinated client contact with local health care professionals on a monthly basis. Managed 25 volunteer workers. Childcare Experience Coordinated service assignments for 20 part-time counselors and 100 client families. Oversaw daily activity and outing planning for 100 clients. Assisted families of special needs clients with researching financial assistance and healthcare. Assisted teachers with managing daily classroom activities. Oversaw daily and special student activities. Employment History 1999-2002 Counseling Supervisor The Wesley Center Little Rock Arkansas. 1997-1999 Client Specialist Rainbow Special Care Center Little Rock Arkansas 1996-1997 Teacher’s Assistant Cowell Elementary Conway Arkansas Education University of Arkansas at Little Rock Little Rock AR BS in Early Childhood Development 1999 BA in Elementary Education 1998 GPA 4.0 Scale Early Childhood Development 3.8 Elementary Education 3.5 Overall 3.4. Dean’s List Chancellor’s List\n"
     ]
    }
   ],
   "execution_count": 13
  },
  {
   "metadata": {
    "ExecuteTime": {
     "end_time": "2025-07-19T23:36:08.114957Z",
     "start_time": "2025-07-19T23:36:08.109726Z"
    }
   },
   "cell_type": "code",
   "source": [
    "def extract_text(path):\n",
    "    with open(path, \"rb\") as pdf:\n",
    "        bytes_ = pdf.read()\n",
    "    return text_from_pdf(bytes_)"
   ],
   "id": "8ca054f53f2bf87d",
   "outputs": [],
   "execution_count": 15
  },
  {
   "metadata": {
    "ExecuteTime": {
     "end_time": "2025-07-20T00:06:07.235159Z",
     "start_time": "2025-07-20T00:06:06.264650Z"
    }
   },
   "cell_type": "code",
   "source": [
    "text = extract_text(\"../pdfs/test3.pdf\")\n",
    "print(text)"
   ],
   "id": "472351d51d0bdbe6",
   "outputs": [
    {
     "name": "stdout",
     "output_type": "stream",
     "text": [
      "1 of 2 Juan Jose Carin Data Scientist Mountain View CA 94041 650-336-4590 | juanjose.carin@gmail.com linkedin.com in juanjosecarin | juanjocarin.github.io Professional Profile Passionate about data analysis and experiments mainly focused on user behavior experience and engagement with a solid background in data science and statistics and extensive experience using data insights to drive business growth. Education 2016 University of California Berkeley Master of Information and Data Science GPA 3.93 Relevant courses Machine Learning Machine Learning at Scale Storing and Retrieving Data Field Experiments Applied Regression and Time Series Analysis Exploring and Analyzing Data Data Visualization and Communication Research Design and Applications for Data Analysis 2014 Universidad Politécnica de Madrid M.S. in Statistical and Computational Information Processing GPA 3.69 Relevant courses Data Mining Multivariate Analysis Time Series Neural Networks and Statistical Learning Regression and Prediction Methods Optimization Techniques Monte Carlo Techniques Numerical Methods in Finance Stochastic Models in Finance Bayesian Networks 2005 Universidad Politécnica de Madrid M.S. in Telecommunication Engineering GPA 3.03 Focus Area Radio communication systems radar and mobile . Fellowship First year at University due to Honors obtained last year at high school. Skills Programming Statistics Big Data Visualization Others Proficient R Python SQL Hadoop Hive MrJob Tableau Git AWS Intermediate SPSS SAS Matlab Spark Storm Bash Basic EViews Demetra D3.js Gephi Neo4j QGIS Experience DATA SCIENCE Jan. 2016 Mar. 2016 Data Scientist CONENTO Madrid Spain working remotely Designed and implemented the ETL pipeline for a predictive model of traffic on the main roads in eastern Spain a project for the Spanish government . Automated scripts in R to extract transform clean incl. anomaly detection and load into MySQL data from multiple data sources road traffic sensors accidents road works weather. Jun. 2014 Sep. 2014 Data Scientist CONENTO Madrid Spain Designed an experiment for Google Spain conducted in October 2014 to measure the impact of YouTube ads on the sales of a car manufacturer's dealer network. A matched-pair cluster-randomized design which involved selecting the test and control groups from a sample of 50 cities in Spain where geo-targeted ads were possible based on their sales- wise similarity over time using wavelets and R . MANAGEMENT SALES Electrical Eng. Feb. 2009 Aug. 2013 Head of Sales Spain Portugal Test Measurement dept. YOKOGAWA Madrid Spain Applied analysis of sales and market trends to decide the direction of the department. Led a team of 7 people. 2 of 2 Juan Jose Carin Data Scientist Mountain View CA 94041 650-336-4590 | juanjose.carin@gmail.com linkedin.com in juanjosecarin | juanjocarin.github.io Increased revenue by 6.3 gross profit by 4.2 and operating income by 146 and achieved a 30 ratio of new customers 3x growth by entering new markets and improving customer service and training. SALES Electrical Eng. Telecom. Apr. 2008 Jan. 2009 Sales Engineer Test Measurement dept. YOKOGAWA Madrid Spain Promoted to head of sales after 5 months leading the sales team. Sep. 2004 Mar. 2008 Sales Application Engineer AYSCOM Madrid Spain Exceeded sales target every year from 2005 to 2007 achieved 60 of the target in the first 3 months of 2008 . EDUCATION Jul. 2002 Jun. 2004 Tutor of Differential Integral Calculus Physics and Digital Electronic Circuits ACADEMIA UNIVERSITARIA Madrid Spain Highest-rated professor in student surveys in 4 of the 6 terms. Increased ratio of students passing the course by 25 . Projects See juanjocarin.github.io for additional information 2016 SmartCam Capstone Python OpenCV TensorFlow AWS EC2 S3 DynamoDB A scalable cloud-based video monitoring system that features motion detection face counting and image recognition. 2015 Implementation of the Shortest Path and PageRank algorithms with the Wikipedia graph dataset Machine Learning at Scale Hadoop MrJob Python AWS EC2 AWS S3 Using a graph dataset of almost half a million nodes. 2015 Forest cover type prediction Machine Learning Python Scikit-Learn Matplotlib A Kaggle competition predictions of the predominant kind of tree cover from strictly cartographic variables such as elevation and soil type using random forests SVMs kNNs Naive Bayes Gradient Descent GMMs 2015 Redefining the job search process Storing and Retrieving Data Hadoop HDFS Hive Spark Python AWS EC2 Tableau A pipeline that combines data from Indeed API and the U.S. Census Bureau to select the best locations for data scientists based on the number of job postings housing cost etc. 2015 A fresh perspective on Citi Bike Data Visualization and Communication Tableau SQLite An interactive website to visualize NYC Citi Bike bicycle sharing service. 2015 Investigating the effect of competition on the ability to solve arithmetic problems Field Experiments R A randomized controlled trial in which 300 participants were assigned to a control group or one of two test groups to evaluate the effect of competition being compared to no one or someone better or worse . 2014 Prediction of customer churn for a mobile network carrier Data Mining SAS Predictions from a sample of 45 000 customers using tree decisions logistic regression and neural networks. 2014 Different models of Harmonized Index of Consumer Prices HICP in Spain Time Series SPSS Demetra Forecasts based on exponential smoothing ARIMA and transfer function using petrol price as independent variable models.\n"
     ]
    }
   ],
   "execution_count": 36
  },
  {
   "metadata": {
    "ExecuteTime": {
     "end_time": "2025-07-19T23:44:06.468883Z",
     "start_time": "2025-07-19T23:44:06.381135Z"
    }
   },
   "cell_type": "code",
   "source": [
    "\n",
    "for key, value in entities.items():\n",
    "    print(key, \":\", value)"
   ],
   "id": "1f30f0c7d2db6e08",
   "outputs": [
    {
     "name": "stdout",
     "output_type": "stream",
     "text": [
      "ORG : ['Functional Resume Sample', 'Fort Collins CO', 'Childcare Experience Coordinated', 'The Wesley Center Little Rock', 'Cowell Elementary', 'Arkansas Education University', 'Elementary Education']\n",
      "PERSON : ['John W. Smith', 'Dean']\n",
      "DATE : ['Four years', 'monthly', 'daily', 'daily', 'daily', '1999-2002', '1997-1999', '1996-1997', '1998']\n",
      "EXPERIENCE : ['experience in early']\n",
      "CARDINAL : ['150', '25', '20', '100', '100', '3.8', '3.5', '3.4']\n",
      "SKILL : ['databases']\n",
      "GPE : ['Arkansas', 'Arkansas', 'Conway']\n",
      "FAC : ['Little Rock Little Rock AR BS']\n"
     ]
    }
   ],
   "execution_count": 24
  },
  {
   "metadata": {
    "ExecuteTime": {
     "end_time": "2025-07-20T00:06:14.448552Z",
     "start_time": "2025-07-20T00:06:14.440917Z"
    }
   },
   "cell_type": "code",
   "source": [
    "def extract_entities(text):\n",
    "    entities = {\"SKILLS\":[],\n",
    "                \"EXPERIENCE\": []}\n",
    "\n",
    "    doc = nlp(text)\n",
    "    for ent in doc.ents:\n",
    "        if ent.label_ == \"SKILL\":\n",
    "            entities[\"SKILLS\"].append(ent.text)\n",
    "    experiences= re.findall(r\"\\d{4} ?\\-\\ ?\\d{4}|\\d{4}\\ ?to\\ ?\\d{4}\", text)\n",
    "    total_experience = 0\n",
    "    for experience in experiences:\n",
    "        start, end = experience.replace(\" \", \"\").replace(\"to\", \"-\").split(\"-\")\n",
    "        start, end = int(start), int(end)\n",
    "        total_experience += end-start\n",
    "    if total_experience > 0:\n",
    "        entities[\"EXPERIENCE\"].append(str(total_experience)+\" years\")\n",
    "    return entities\n",
    "\n"
   ],
   "id": "968164cad56461cb",
   "outputs": [],
   "execution_count": 37
  },
  {
   "metadata": {
    "ExecuteTime": {
     "end_time": "2025-07-20T00:06:16.304454Z",
     "start_time": "2025-07-20T00:06:16.053737Z"
    }
   },
   "cell_type": "code",
   "source": [
    "entities = extract_entities(text)\n",
    "for key, value in entities.items():\n",
    "    print(key, \":\", value)"
   ],
   "id": "44d08fc30bb6341b",
   "outputs": [
    {
     "name": "stdout",
     "output_type": "stream",
     "text": [
      "SKILLS : ['data analysis', 'data science', 'business', 'Time Series', 'Finance', 'Finance', 'mobile', 'R', 'Python', 'Tableau', 'Git', 'Storm', 'Bash', 'D3.js', 'DATA SCIENCE', 'R', 'anomaly detection', 'MySQL', 'design', 'R', 'Python', 'OpenCV', 'TensorFlow', 'monitoring', 'motion detection', 'algorithms', 'variables', 'Hadoop', 'Python', 'API', 'R', 'mobile', 'logistic regression', 'smoothing']\n",
      "EXPERIENCE : ['2 years']\n"
     ]
    }
   ],
   "execution_count": 38
  },
  {
   "metadata": {
    "ExecuteTime": {
     "end_time": "2025-07-20T00:14:20.563581Z",
     "start_time": "2025-07-20T00:14:20.048934Z"
    }
   },
   "cell_type": "code",
   "source": "nlp.to_disk(\"./output\")",
   "id": "bd39b19dda800e1f",
   "outputs": [],
   "execution_count": 39
  }
 ],
 "metadata": {
  "kernelspec": {
   "display_name": "Python 3",
   "language": "python",
   "name": "python3"
  },
  "language_info": {
   "codemirror_mode": {
    "name": "ipython",
    "version": 2
   },
   "file_extension": ".py",
   "mimetype": "text/x-python",
   "name": "python",
   "nbconvert_exporter": "python",
   "pygments_lexer": "ipython2",
   "version": "2.7.6"
  }
 },
 "nbformat": 4,
 "nbformat_minor": 5
}
